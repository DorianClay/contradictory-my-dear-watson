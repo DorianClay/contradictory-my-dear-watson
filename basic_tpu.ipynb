{
 "cells": [
  {
   "cell_type": "markdown",
   "source": [
    "# A solution to Watson's contradictions\r\n",
    "### From Kaggle's recurring challenge \"Contradictory, My Dear Watson\"\r\n",
    "\r\n",
    "\r\n",
    "This is a preliminary model to a Natural Language Inferencing (NLI) problem, which takes two sentences and decides if the first entails, contradicts, or is unrelated to the second.\r\n",
    "\r\n",
    "See the challenge on Kaggle [here](https://www.kaggle.com/c/contradictory-my-dear-watson/overview)."
   ],
   "metadata": {}
  },
  {
   "cell_type": "code",
   "execution_count": 5,
   "source": [
    "import numpy as np\r\n",
    "import pandas as pd\r\n",
    "from transformers import BertTokenizer, TFBertModel\r\n",
    "import matplotlib.pyplot as plt\r\n",
    "import tensorflow as tf"
   ],
   "outputs": [
    {
     "output_type": "stream",
     "name": "stderr",
     "text": [
      "Matplotlib is building the font cache; this may take a moment.\n"
     ]
    }
   ],
   "metadata": {}
  },
  {
   "cell_type": "markdown",
   "source": [
    "Set up the TPU."
   ],
   "metadata": {}
  },
  {
   "cell_type": "code",
   "execution_count": 6,
   "source": [
    "try:\r\n",
    "  tpu = tf.distribute.cluster_resolver.TPUClusterResolver()\r\n",
    "  tf.config.experimental_connect_to_cluster(tpu)\r\n",
    "  tf.tpu.experimental.initialize_tpu_system(tpu)\r\n",
    "  strategy = tf.distribute.experimental.TPUStrategy(tpu)\r\n",
    "except ValueError:\r\n",
    "  strategy = tf.distribute.get_strategy()\r\n",
    "  print('Number of replicas:', strategy.num_replicas_in_sync)"
   ],
   "outputs": [
    {
     "output_type": "stream",
     "name": "stdout",
     "text": [
      "Number of replicas: 1\n"
     ]
    }
   ],
   "metadata": {}
  }
 ],
 "metadata": {
  "orig_nbformat": 4,
  "language_info": {
   "name": "python",
   "version": "3.8.11",
   "mimetype": "text/x-python",
   "codemirror_mode": {
    "name": "ipython",
    "version": 3
   },
   "pygments_lexer": "ipython3",
   "nbconvert_exporter": "python",
   "file_extension": ".py"
  },
  "kernelspec": {
   "name": "python3",
   "display_name": "Python 3.8.11 64-bit ('kaggle': conda)"
  },
  "interpreter": {
   "hash": "6c65ddf94f1d80ae5c8fb67496b4f590f10552b7eb86f14650cc6beca6363545"
  }
 },
 "nbformat": 4,
 "nbformat_minor": 2
}